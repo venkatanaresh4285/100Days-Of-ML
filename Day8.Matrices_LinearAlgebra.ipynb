{
 "cells": [
  {
   "cell_type": "code",
   "execution_count": 1,
   "id": "204a12fb",
   "metadata": {},
   "outputs": [],
   "source": [
    "import numpy as np"
   ]
  },
  {
   "cell_type": "code",
   "execution_count": 2,
   "id": "39410bce",
   "metadata": {},
   "outputs": [
    {
     "name": "stdout",
     "output_type": "stream",
     "text": [
      "Rows :  [1 2 3]\n"
     ]
    }
   ],
   "source": [
    "row=np.array([1,2,3])\n",
    "print(\"Rows : \",row)"
   ]
  },
  {
   "cell_type": "code",
   "execution_count": 3,
   "id": "77d86277",
   "metadata": {},
   "outputs": [
    {
     "name": "stdout",
     "output_type": "stream",
     "text": [
      "Columns :  [[1]\n",
      " [2]\n",
      " [3]]\n"
     ]
    }
   ],
   "source": [
    "cols=np.array([[1],[2],[3]])\n",
    "print(\"Columns : \",cols)"
   ]
  },
  {
   "cell_type": "markdown",
   "id": "b7435dc0",
   "metadata": {},
   "source": [
    "# Square matrix"
   ]
  },
  {
   "cell_type": "code",
   "execution_count": 4,
   "id": "6abedaae",
   "metadata": {},
   "outputs": [
    {
     "name": "stdout",
     "output_type": "stream",
     "text": [
      "Square Matrix [[1 2 3]\n",
      " [4 5 6]\n",
      " [7 8 9]]\n"
     ]
    }
   ],
   "source": [
    "sq_matrix=np.array([[1,2,3],[4,5,6],[7,8,9]])\n",
    "print(\"Square Matrix\",sq_matrix)"
   ]
  },
  {
   "cell_type": "markdown",
   "id": "ee5b8e6b",
   "metadata": {},
   "source": [
    "# Rectangle matrix"
   ]
  },
  {
   "cell_type": "code",
   "execution_count": 14,
   "id": "70a5bf9e",
   "metadata": {},
   "outputs": [
    {
     "name": "stdout",
     "output_type": "stream",
     "text": [
      "Rectangular Matrix: [[1 2 3]\n",
      " [4 5 6]]\n"
     ]
    }
   ],
   "source": [
    "rect_matrix = np.array([[1, 2, 3], [4, 5, 6]])\n",
    "print(\"Rectangular Matrix:\", rect_matrix)"
   ]
  },
  {
   "cell_type": "markdown",
   "id": "60caf386",
   "metadata": {},
   "source": [
    "# Diagonal matrix"
   ]
  },
  {
   "cell_type": "code",
   "execution_count": 10,
   "id": "b1cb7e3f",
   "metadata": {},
   "outputs": [
    {
     "name": "stdout",
     "output_type": "stream",
     "text": [
      "Diagonal Matrix: \n",
      " [[1 0 0]\n",
      " [0 2 0]\n",
      " [0 0 3]]\n"
     ]
    }
   ],
   "source": [
    "dig = np.diag([1, 2, 3])\n",
    "print(\"Diagonal Matrix: \\n\", dig)"
   ]
  },
  {
   "cell_type": "markdown",
   "id": "9ea2d667",
   "metadata": {},
   "source": [
    "# Scalar matrix"
   ]
  },
  {
   "cell_type": "code",
   "execution_count": 11,
   "id": "579690c9",
   "metadata": {},
   "outputs": [
    {
     "name": "stdout",
     "output_type": "stream",
     "text": [
      "Scalar Matrix:\n",
      " [[5. 0. 0.]\n",
      " [0. 5. 0.]\n",
      " [0. 0. 5.]]\n"
     ]
    }
   ],
   "source": [
    "scalar_matrix = np.identity(3) * 5\n",
    "print(\"Scalar Matrix:\\n\", scalar_matrix)"
   ]
  },
  {
   "cell_type": "markdown",
   "id": "ae225768",
   "metadata": {},
   "source": [
    "# Identity Matrix"
   ]
  },
  {
   "cell_type": "code",
   "execution_count": 12,
   "id": "cb2e174f",
   "metadata": {},
   "outputs": [
    {
     "name": "stdout",
     "output_type": "stream",
     "text": [
      "Identity Matrix:\n",
      " [[1. 0. 0.]\n",
      " [0. 1. 0.]\n",
      " [0. 0. 1.]]\n"
     ]
    }
   ],
   "source": [
    "id_matrix = np.eye(3)\n",
    "print(\"Identity Matrix:\\n\", id_matrix)"
   ]
  },
  {
   "cell_type": "markdown",
   "id": "fb4443bc",
   "metadata": {},
   "source": [
    "# Null matrix"
   ]
  },
  {
   "cell_type": "code",
   "execution_count": 13,
   "id": "f44f2677",
   "metadata": {},
   "outputs": [
    {
     "name": "stdout",
     "output_type": "stream",
     "text": [
      "Zero Matrix:\n",
      " [[0. 0. 0.]\n",
      " [0. 0. 0.]\n",
      " [0. 0. 0.]]\n"
     ]
    }
   ],
   "source": [
    "zero_matrix = np.zeros((3, 3))\n",
    "print(\"Zero Matrix:\\n\", zero_matrix)"
   ]
  },
  {
   "cell_type": "markdown",
   "id": "9e9f746e",
   "metadata": {},
   "source": [
    "# Lower and Upper Triangular matrix"
   ]
  },
  {
   "cell_type": "code",
   "execution_count": 15,
   "id": "07c0226a",
   "metadata": {},
   "outputs": [
    {
     "name": "stdout",
     "output_type": "stream",
     "text": [
      "Upper Triangular Matrix:\n",
      " [[1 2 3]\n",
      " [0 4 5]\n",
      " [0 0 6]]\n",
      "Lower Triangular Matrix:\n",
      " [[1 0 0]\n",
      " [2 3 0]\n",
      " [4 5 6]]\n"
     ]
    }
   ],
   "source": [
    "A = np.array([[1, 2, 3], [0, 4, 5], [0, 0, 6]]) \n",
    "B = np.array([[1, 0, 0], [2, 3, 0], [4, 5, 6]])  \n",
    "\n",
    "print(\"Upper Triangular Matrix:\\n\", A)\n",
    "print(\"Lower Triangular Matrix:\\n\", B)"
   ]
  },
  {
   "cell_type": "markdown",
   "id": "d0d91ade",
   "metadata": {},
   "source": [
    "# Multiplication of matrices"
   ]
  },
  {
   "cell_type": "code",
   "execution_count": 16,
   "id": "d5d86c16",
   "metadata": {},
   "outputs": [
    {
     "name": "stdout",
     "output_type": "stream",
     "text": [
      "Multiplication : \n",
      " [[ 3  8 15]\n",
      " [20 30 42]\n",
      " [48 63  8]]\n"
     ]
    }
   ],
   "source": [
    "A=np.array([[1,2,3],[4,5,6],[6,7,8]])\n",
    "B=np.array([[3,4,5],[5,6,7],[8,9,1]])\n",
    "mul=A*B\n",
    "print(\"Multiplication : \\n\",mul)"
   ]
  },
  {
   "cell_type": "code",
   "execution_count": 19,
   "id": "15bf4f5e",
   "metadata": {},
   "outputs": [
    {
     "name": "stdout",
     "output_type": "stream",
     "text": [
      "Transpose : \n",
      " [[1 5]\n",
      " [2 6]\n",
      " [3 7]]\n"
     ]
    }
   ],
   "source": [
    "A=np.array([[1,2,3],[5,6,7]])\n",
    "transpose=A.T\n",
    "print(\"Transpose : \\n\",transpose)"
   ]
  },
  {
   "cell_type": "markdown",
   "id": "19f3cd52",
   "metadata": {},
   "source": [
    "# Symmetric Matrix"
   ]
  },
  {
   "cell_type": "code",
   "execution_count": 21,
   "id": "f4df7fc7",
   "metadata": {},
   "outputs": [
    {
     "name": "stdout",
     "output_type": "stream",
     "text": [
      "Matrix A:\n",
      " [[1 2 3]\n",
      " [2 5 6]\n",
      " [3 6 9]]\n",
      "Transpose of A:\n",
      " [[1 2 3]\n",
      " [2 5 6]\n",
      " [3 6 9]]\n",
      "Is Symmetric: True\n"
     ]
    }
   ],
   "source": [
    "A = np.array([[1, 2, 3],\n",
    "              [2, 5, 6],\n",
    "              [3, 6, 9]])\n",
    "print(\"Matrix A:\\n\", A)\n",
    "print(\"Transpose of A:\\n\", A.T)\n",
    "print(\"Is Symmetric:\", np.array_equal(A, A.T))\n"
   ]
  },
  {
   "cell_type": "markdown",
   "id": "0460f6b5",
   "metadata": {},
   "source": [
    "# Skew Symmetric matrix"
   ]
  },
  {
   "cell_type": "code",
   "execution_count": 22,
   "id": "18b0538c",
   "metadata": {},
   "outputs": [
    {
     "name": "stdout",
     "output_type": "stream",
     "text": [
      "Matrix A:\n",
      " [[ 0  2 -1]\n",
      " [-2  0 -4]\n",
      " [ 1  4  0]]\n",
      "Transpose Aᵀ:\n",
      " [[ 0 -2  1]\n",
      " [ 2  0  4]\n",
      " [-1 -4  0]]\n",
      "Is Skew-Symmetric: True\n"
     ]
    }
   ],
   "source": [
    "A = np.array([[ 0,  2, -1],\n",
    "              [-2,  0, -4],\n",
    "              [ 1,  4,  0]])\n",
    "print(\"Matrix A:\\n\", A)\n",
    "print(\"Transpose Aᵀ:\\n\", A.T)\n",
    "print(\"Is Skew-Symmetric:\", np.array_equal(A.T, -A))"
   ]
  },
  {
   "cell_type": "markdown",
   "id": "d10f6137",
   "metadata": {},
   "source": [
    "# Row Echelon Form (REF) & RREF"
   ]
  },
  {
   "cell_type": "code",
   "execution_count": 23,
   "id": "20c88fb6",
   "metadata": {},
   "outputs": [
    {
     "name": "stdout",
     "output_type": "stream",
     "text": [
      "Original Matrix:\n",
      " Matrix([[1, 2, -1], [2, 4, -2], [3, 6, -3]])\n",
      "RREF:\n",
      " Matrix([[1, 2, -1], [0, 0, 0], [0, 0, 0]])\n",
      "Pivot Columns: (0,)\n"
     ]
    }
   ],
   "source": [
    "from sympy import Matrix\n",
    "A = Matrix([[1, 2, -1], [2, 4, -2], [3, 6, -3]])\n",
    "rref_matrix, pivot_cols = A.rref()\n",
    "print(\"Original Matrix:\\n\", A)\n",
    "print(\"RREF:\\n\", rref_matrix)\n",
    "print(\"Pivot Columns:\", pivot_cols)\n"
   ]
  },
  {
   "cell_type": "markdown",
   "id": "b947ef28",
   "metadata": {},
   "source": [
    "# Determent of matrix"
   ]
  },
  {
   "cell_type": "code",
   "execution_count": 24,
   "id": "d4c84a10",
   "metadata": {},
   "outputs": [
    {
     "name": "stdout",
     "output_type": "stream",
     "text": [
      "Determent :\n",
      " -9.51619735392994e-16\n"
     ]
    }
   ],
   "source": [
    "A=np.array([[1,2,3],[4,5,6],[7,8,9]])\n",
    "det=np.linalg.det(A)\n",
    "print(\"Determent :\\n\",det)"
   ]
  },
  {
   "cell_type": "markdown",
   "id": "62072cd3",
   "metadata": {},
   "source": [
    "# Cofactors of matrix"
   ]
  },
  {
   "cell_type": "code",
   "execution_count": 25,
   "id": "064eca19",
   "metadata": {},
   "outputs": [
    {
     "name": "stdout",
     "output_type": "stream",
     "text": [
      "Matrix A:\n",
      " Matrix([[1, 2], [3, 4]])\n",
      "Cofactor Matrix:\n",
      " Matrix([[4, -3], [-2, 1]])\n",
      "Adjoint (Adjugate):\n",
      " Matrix([[4, -2], [-3, 1]])\n"
     ]
    }
   ],
   "source": [
    "from sympy import Matrix\n",
    "A = Matrix([[1, 2], [3, 4]])\n",
    "cofactor_matrix = A.cofactor_matrix()\n",
    "adjoint = A.adjugate()\n",
    "print(\"Matrix A:\\n\", A)\n",
    "print(\"Cofactor Matrix:\\n\", cofactor_matrix)\n",
    "print(\"Adjoint (Adjugate):\\n\", adjoint)\n"
   ]
  },
  {
   "cell_type": "code",
   "execution_count": 26,
   "id": "c5735c31",
   "metadata": {},
   "outputs": [
    {
     "name": "stdout",
     "output_type": "stream",
     "text": [
      "A+B == B+A: True\n",
      "(A+B)+B == A+(B+B): True\n",
      "A*(B+B) == A*B + A*B: True\n"
     ]
    }
   ],
   "source": [
    "A = np.array([[2, 3], [4, 5]])\n",
    "B = np.array([[1, 0], [0, 1]])  \n",
    "print(\"A+B == B+A:\", np.array_equal(A + B, B + A))\n",
    "print(\"(A+B)+B == A+(B+B):\", np.array_equal((A + B) + B, A + (B + B)))\n",
    "print(\"A*(B+B) == A*B + A*B:\", np.array_equal(np.dot(A, B + B), np.dot(A, B) + np.dot(A, B)))\n"
   ]
  },
  {
   "cell_type": "code",
   "execution_count": 27,
   "id": "ebc15088",
   "metadata": {},
   "outputs": [
    {
     "name": "stdout",
     "output_type": "stream",
     "text": [
      "Matrix:\n",
      " [[1 2 3]\n",
      " [2 4 6]\n",
      " [1 1 1]]\n",
      "Rank: 2\n"
     ]
    }
   ],
   "source": [
    "A = np.array([[1, 2, 3], [2, 4, 6], [1, 1, 1]])\n",
    "rank = np.linalg.matrix_rank(A)\n",
    "print(\"Matrix:\\n\", A)\n",
    "print(\"Rank:\", rank)"
   ]
  },
  {
   "cell_type": "code",
   "execution_count": 28,
   "id": "af6d31e5",
   "metadata": {},
   "outputs": [
    {
     "name": "stdout",
     "output_type": "stream",
     "text": [
      "Solution of AX = B is X:\n",
      " [2.2 3.6]\n"
     ]
    }
   ],
   "source": [
    "from numpy.linalg import solve\n",
    "A = np.array([[2, 1], [1, 3]])\n",
    "B = np.array([8, 13])\n",
    "X = solve(A, B)\n",
    "print(\"Solution of AX = B is X:\\n\", X)"
   ]
  },
  {
   "cell_type": "code",
   "execution_count": null,
   "id": "299f3055",
   "metadata": {},
   "outputs": [],
   "source": []
  }
 ],
 "metadata": {
  "kernelspec": {
   "display_name": "Python 3 (ipykernel)",
   "language": "python",
   "name": "python3"
  },
  "language_info": {
   "codemirror_mode": {
    "name": "ipython",
    "version": 3
   },
   "file_extension": ".py",
   "mimetype": "text/x-python",
   "name": "python",
   "nbconvert_exporter": "python",
   "pygments_lexer": "ipython3",
   "version": "3.11.5"
  }
 },
 "nbformat": 4,
 "nbformat_minor": 5
}
