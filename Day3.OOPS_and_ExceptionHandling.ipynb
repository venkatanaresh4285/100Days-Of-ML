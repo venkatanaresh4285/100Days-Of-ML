{
 "cells": [
  {
   "cell_type": "markdown",
   "id": "09d6dadf",
   "metadata": {},
   "source": [
    "# OOPS Concepts"
   ]
  },
  {
   "cell_type": "code",
   "execution_count": 3,
   "id": "0a4dc026",
   "metadata": {},
   "outputs": [
    {
     "name": "stdout",
     "output_type": "stream",
     "text": [
      "Washing\n",
      "Set cap\n",
      "Fill Water\n"
     ]
    }
   ],
   "source": [
    "id=10\n",
    "col=\"red\"\n",
    "cap=1\n",
    "height=10\n",
    "def wash():\n",
    "    print(\"Washing\")\n",
    "def setcap():\n",
    "    print(\"Set cap\")\n",
    "def fillW():\n",
    "    print(\"Fill Water\")\n",
    "wash()\n",
    "setcap()\n",
    "fillW()"
   ]
  },
  {
   "cell_type": "code",
   "execution_count": 8,
   "id": "45ca1fd0",
   "metadata": {},
   "outputs": [
    {
     "name": "stdout",
     "output_type": "stream",
     "text": [
      "10\n",
      "red\n",
      "1\n",
      "10\n"
     ]
    }
   ],
   "source": [
    "class Bottle:\n",
    "    idi=10\n",
    "    col=\"red\"\n",
    "    cap=1\n",
    "    height=10 \n",
    "b=Bottle()\n",
    "print(b.idi)\n",
    "print(b.col)\n",
    "print(b.cap)\n",
    "print(b.height)\n",
    "    "
   ]
  },
  {
   "cell_type": "code",
   "execution_count": 15,
   "id": "af901f9e",
   "metadata": {},
   "outputs": [
    {
     "name": "stdout",
     "output_type": "stream",
     "text": [
      "Config is  i5 16\n",
      "Config is  Ryzen 3 0\n"
     ]
    }
   ],
   "source": [
    "class Computer:\n",
    "    def __init__(self,cpu,ram):\n",
    "        self.cpu=cpu\n",
    "        self.ram=ram\n",
    "    def Config(self):\n",
    "        print(\"Config is \",self.cpu,self.ram)\n",
    "\n",
    "c=Computer('i5',16)\n",
    "c2=Computer('Ryzen 3',0)\n",
    "\n",
    "c.Config()\n",
    "c2.Config()\n",
    "\n"
   ]
  },
  {
   "cell_type": "code",
   "execution_count": 23,
   "id": "d818e631",
   "metadata": {},
   "outputs": [
    {
     "name": "stdout",
     "output_type": "stream",
     "text": [
      "<__main__.Computer object at 0x000001B2A84F7D50>\n",
      "<__main__.Computer object at 0x000001B2A850D6D0>\n"
     ]
    }
   ],
   "source": [
    "class Computer:\n",
    "    pass\n",
    "c1=Computer()\n",
    "c2=Computer()\n",
    "print(c1)\n",
    "print(c2)"
   ]
  },
  {
   "cell_type": "code",
   "execution_count": 27,
   "id": "0bfd55f2",
   "metadata": {},
   "outputs": [
    {
     "name": "stdout",
     "output_type": "stream",
     "text": [
      "Naresh\n",
      "28\n",
      "Naveen\n",
      "22\n"
     ]
    }
   ],
   "source": [
    "class Computer:\n",
    "    def __init__(self):\n",
    "        self.name=\"Naveen\"\n",
    "        self.age=22\n",
    "    def Update(self):\n",
    "        self.age=28\n",
    "c1=Computer()\n",
    "c2=Computer()\n",
    "\n",
    "c1.name=\"Naresh\"\n",
    "c1.age=25\n",
    "print(c1.name)\n",
    "print(c1.age)\n",
    "print(c2.name)\n",
    "print(c2.age)"
   ]
  },
  {
   "cell_type": "code",
   "execution_count": 29,
   "id": "ab7c20df",
   "metadata": {},
   "outputs": [
    {
     "name": "stdout",
     "output_type": "stream",
     "text": [
      "10\n",
      "BMW\n",
      "10\n",
      "BMW\n"
     ]
    }
   ],
   "source": [
    "class Car:\n",
    "    def __init__(self):\n",
    "        self.mil=10\n",
    "        self.com=\"BMW\"\n",
    "c1=Car()\n",
    "c2=Car()\n",
    "\n",
    "print(c1.mil)\n",
    "print(c1.com)\n",
    "print(c2.mil)\n",
    "print(c2.com)"
   ]
  },
  {
   "cell_type": "code",
   "execution_count": 31,
   "id": "1177c6b4",
   "metadata": {},
   "outputs": [
    {
     "name": "stdout",
     "output_type": "stream",
     "text": [
      "35\n",
      "BMW\n",
      "10\n",
      "BMW\n"
     ]
    }
   ],
   "source": [
    "class Car:\n",
    "    def __init__(self):\n",
    "        self.mil=10\n",
    "        self.com=\"BMW\"\n",
    "c1=Car()\n",
    "c2=Car()\n",
    "\n",
    "c1.mil=35\n",
    "print(c1.mil)\n",
    "print(c1.com)\n",
    "print(c2.mil)\n",
    "print(c2.com)"
   ]
  },
  {
   "cell_type": "code",
   "execution_count": 33,
   "id": "43202a5d",
   "metadata": {},
   "outputs": [
    {
     "name": "stdout",
     "output_type": "stream",
     "text": [
      "68.66666666666667\n"
     ]
    }
   ],
   "source": [
    "class Student:\n",
    "    def __init__(self,m1,m2,m3):\n",
    "        self.m1=m1\n",
    "        self.m2=m2\n",
    "        self.m3=m3\n",
    "    def avg(self):\n",
    "        return (self.m1+self.m2+self.m3)/3\n",
    "    \n",
    "s1=Student(34,35,36)\n",
    "s1=Student(74,36,96)\n",
    "\n",
    "print(s1.avg())"
   ]
  },
  {
   "cell_type": "markdown",
   "id": "a744d9ac",
   "metadata": {},
   "source": [
    "# Inner Clases\n"
   ]
  },
  {
   "cell_type": "code",
   "execution_count": 41,
   "id": "f9563ac4",
   "metadata": {},
   "outputs": [
    {
     "name": "stdout",
     "output_type": "stream",
     "text": [
      "Naveen 2\n",
      "Jenny 3\n",
      "HP i5 8\n"
     ]
    }
   ],
   "source": [
    "class Student:\n",
    "    def __init__(self,name,roll):\n",
    "        self.name=name\n",
    "        self.roll=roll\n",
    "    def Show(self):\n",
    "        print(self.name,self.roll)\n",
    "        \n",
    "    class Laptop:\n",
    "        def __init__(self):\n",
    "            self.brand='HP'\n",
    "            self.cpu='i5'\n",
    "            self.ram=8\n",
    "        def show(self):\n",
    "            print(self.brand,self.cpu,self.ram)\n",
    "s1=Student(\"Naveen\",2)\n",
    "s2=Student(\"Jenny\",3)\n",
    "s1.Show()\n",
    "s2.Show()\n",
    "lap=Student.Laptop()\n",
    "lap.show()"
   ]
  },
  {
   "cell_type": "code",
   "execution_count": 42,
   "id": "1f48ca04",
   "metadata": {},
   "outputs": [
    {
     "name": "stdout",
     "output_type": "stream",
     "text": [
      "Feature 1 working\n",
      "Feature 2 working\n",
      "Feature 3 working\n",
      "Feature 4 working\n"
     ]
    }
   ],
   "source": [
    "class A:\n",
    "    def feature(self):\n",
    "        print(\"Feature 1 working\")\n",
    "    def feature2(self):\n",
    "        print(\"Feature 2 working\")\n",
    "class B:\n",
    "    def feature(self):\n",
    "        print(\"Feature 3 working\")\n",
    "    def feature2(self):\n",
    "        print(\"Feature 4 working\")\n",
    "a=A()\n",
    "a.feature()\n",
    "a.feature2()\n",
    "\n",
    "b=B()\n",
    "b.feature()\n",
    "b.feature2()"
   ]
  },
  {
   "cell_type": "code",
   "execution_count": 43,
   "id": "0e8a504b",
   "metadata": {},
   "outputs": [
    {
     "name": "stdout",
     "output_type": "stream",
     "text": [
      "Feature 1 working\n",
      "Feature 2 working\n",
      "Feature 3 working\n",
      "Feature 4 working\n"
     ]
    }
   ],
   "source": [
    "class A:\n",
    "    def feature(self):\n",
    "        print(\"Feature 1 working\")\n",
    "    def feature2(self):\n",
    "        print(\"Feature 2 working\")\n",
    "class B(A):\n",
    "    def feature(self):\n",
    "        print(\"Feature 3 working\")\n",
    "    def feature2(self):\n",
    "        print(\"Feature 4 working\")\n",
    "a=A()\n",
    "a.feature()\n",
    "a.feature2()\n",
    "\n",
    "b=B()\n",
    "b.feature()\n",
    "b.feature2()"
   ]
  },
  {
   "cell_type": "code",
   "execution_count": 44,
   "id": "947c0cd8",
   "metadata": {},
   "outputs": [
    {
     "name": "stdout",
     "output_type": "stream",
     "text": [
      "MUMMMY\n",
      "BABYY\n"
     ]
    }
   ],
   "source": [
    "class MOM:  \n",
    "    def speak(self):  \n",
    "        print(\"BABYY\")   \n",
    "class SON(MOM):  \n",
    "    def mumm(self):  \n",
    "        print(\"MUMMMY\")  \n",
    "d =SON()\n",
    "d.mumm()  \n",
    "d.speak()  "
   ]
  },
  {
   "cell_type": "code",
   "execution_count": 45,
   "id": "d9a53569",
   "metadata": {},
   "outputs": [
    {
     "name": "stdout",
     "output_type": "stream",
     "text": [
      "This is a Vehicle.\n",
      "This is a Car. It has 4 wheels.\n",
      "This is an Electric Car. It runs on battery.\n"
     ]
    }
   ],
   "source": [
    "class Vehicle:\n",
    "    def info(self):\n",
    "        print(\"This is a Vehicle.\")\n",
    "\n",
    "class Car(Vehicle):\n",
    "    def car_info(self):\n",
    "        print(\"This is a Car. It has 4 wheels.\")\n",
    "class ElectricCar(Car):\n",
    "    def battery_info(self):\n",
    "        print(\"This is an Electric Car. It runs on battery.\")\n",
    "tesla = ElectricCar()\n",
    "\n",
    "tesla.info()        \n",
    "tesla.car_info()     \n",
    "tesla.battery_info() \n"
   ]
  },
  {
   "cell_type": "code",
   "execution_count": 47,
   "id": "4a0e1785",
   "metadata": {},
   "outputs": [
    {
     "name": "stdout",
     "output_type": "stream",
     "text": [
      "Checking account balance...\n",
      "Deposited: ₹2000. New balance: ₹7000\n",
      "Withdrawn: ₹3000. Remaining balance: ₹4000\n",
      "Insufficient balance!\n"
     ]
    }
   ],
   "source": [
    "from abc import ABC, abstractmethod\n",
    "\n",
    "class ATM(ABC):\n",
    "    \n",
    "    def withdraw(self, amount):\n",
    "        pass\n",
    "    \n",
    "    def deposit(self, amount):\n",
    "        pass\n",
    "    \n",
    "    def check_balance(self):\n",
    "        print(\"Checking account balance...\")\n",
    "\n",
    "class BankATM(ATM):\n",
    "    def __init__(self, balance):\n",
    "        self.balance = balance\n",
    "\n",
    "    def withdraw(self, amount):\n",
    "        if amount <= self.balance:\n",
    "            self.balance -= amount\n",
    "            print(f\"Withdrawn: ₹{amount}. Remaining balance: ₹{self.balance}\")\n",
    "        else:\n",
    "            print(\"Insufficient balance!\")\n",
    "\n",
    "    def deposit(self, amount):\n",
    "        self.balance += amount\n",
    "        print(f\"Deposited: ₹{amount}. New balance: ₹{self.balance}\")\n",
    "\n",
    "user_atm = BankATM(5000)\n",
    "\n",
    "user_atm.check_balance()\n",
    "user_atm.deposit(2000)\n",
    "user_atm.withdraw(3000)\n",
    "user_atm.withdraw(5000)\n"
   ]
  },
  {
   "cell_type": "code",
   "execution_count": 48,
   "id": "cf7f267e",
   "metadata": {},
   "outputs": [
    {
     "name": "stdout",
     "output_type": "stream",
     "text": [
      "Account Number: 12345\n",
      "Deposited: ₹2000. New balance: ₹7000\n",
      "Withdrawn: ₹3000. Remaining balance: ₹4000\n",
      "Final Balance: ₹4000\n"
     ]
    }
   ],
   "source": [
    "class BankAccount:\n",
    "    def __init__(self, acc_no, balance):\n",
    "        self.acc_no = acc_no  \n",
    "        self.__balance = balance  \n",
    "\n",
    "    def deposit(self, amount):\n",
    "        if amount > 0:\n",
    "            self.__balance += amount\n",
    "            print(f\"Deposited: ₹{amount}. New balance: ₹{self.__balance}\")\n",
    "\n",
    "    def withdraw(self, amount):\n",
    "        if 0 < amount <= self.__balance:\n",
    "            self.__balance -= amount\n",
    "            print(f\"Withdrawn: ₹{amount}. Remaining balance: ₹{self.__balance}\")\n",
    "        else:\n",
    "            print(\"Insufficient balance!\")\n",
    "\n",
    "    def get_balance(self):\n",
    "        return self.__balance  \n",
    "\n",
    "acc = BankAccount(\"12345\", 5000)\n",
    "\n",
    "print(f\"Account Number: {acc.acc_no}\")\n",
    "acc.deposit(2000)\n",
    "acc.withdraw(3000)\n",
    "print(f\"Final Balance: ₹{acc.get_balance()}\")\n"
   ]
  },
  {
   "cell_type": "code",
   "execution_count": 49,
   "id": "e34bada4",
   "metadata": {},
   "outputs": [
    {
     "name": "stdout",
     "output_type": "stream",
     "text": [
      "Barks\n",
      "Meows\n"
     ]
    }
   ],
   "source": [
    "class Dog:\n",
    "    def sound(self):\n",
    "        return \"Barks\"\n",
    "\n",
    "class Cat:\n",
    "    def sound(self):\n",
    "        return \"Meows\"\n",
    "\n",
    "def make_sound(animal):\n",
    "    print(animal.sound())\n",
    "\n",
    "dog = Dog()\n",
    "cat = Cat()\n",
    "\n",
    "make_sound(dog)  \n",
    "make_sound(cat)  \n"
   ]
  },
  {
   "cell_type": "markdown",
   "id": "99f8644b",
   "metadata": {},
   "source": [
    "# Exception Handling\n"
   ]
  },
  {
   "cell_type": "code",
   "execution_count": 50,
   "id": "0adfccca",
   "metadata": {},
   "outputs": [
    {
     "name": "stdout",
     "output_type": "stream",
     "text": [
      "Cannot divide by zero!\n"
     ]
    }
   ],
   "source": [
    "try:\n",
    "    x = 10 / 0  \n",
    "except ZeroDivisionError:\n",
    "    print(\"Cannot divide by zero!\")"
   ]
  },
  {
   "cell_type": "code",
   "execution_count": 51,
   "id": "dd2023a0",
   "metadata": {},
   "outputs": [
    {
     "name": "stdout",
     "output_type": "stream",
     "text": [
      "Enter a number: 100\n",
      "Result: 1.0\n",
      "Execution completed.\n"
     ]
    }
   ],
   "source": [
    "try:\n",
    "    num = int(input(\"Enter a number: \"))\n",
    "    result = 100 / num\n",
    "    print(f\"Result: {result}\")\n",
    "\n",
    "except ZeroDivisionError:\n",
    "    print(\"Cannot divide by zero!\")\n",
    "\n",
    "except ValueError:\n",
    "    print(\"Invalid input! Please enter a number.\")\n",
    "\n",
    "finally:\n",
    "    print(\"Execution completed.\")\n"
   ]
  },
  {
   "cell_type": "code",
   "execution_count": 52,
   "id": "886d51e8",
   "metadata": {},
   "outputs": [
    {
     "name": "stdout",
     "output_type": "stream",
     "text": [
      "Age must be 18 or above\n"
     ]
    }
   ],
   "source": [
    "def check_age(age):\n",
    "    if age < 18:\n",
    "        raise ValueError(\"Age must be 18 or above\")\n",
    "    print(\"You are eligible!\")\n",
    "\n",
    "try:\n",
    "    check_age(16)\n",
    "except ValueError as e:\n",
    "    print(e)"
   ]
  },
  {
   "cell_type": "markdown",
   "id": "5314323f",
   "metadata": {},
   "source": [
    "# Numpy"
   ]
  },
  {
   "cell_type": "code",
   "execution_count": 53,
   "id": "7ec17717",
   "metadata": {},
   "outputs": [],
   "source": [
    "import numpy as np\n",
    "import pandas as pd"
   ]
  },
  {
   "cell_type": "code",
   "execution_count": null,
   "id": "32a08c45",
   "metadata": {},
   "outputs": [],
   "source": []
  }
 ],
 "metadata": {
  "kernelspec": {
   "display_name": "Python 3 (ipykernel)",
   "language": "python",
   "name": "python3"
  },
  "language_info": {
   "codemirror_mode": {
    "name": "ipython",
    "version": 3
   },
   "file_extension": ".py",
   "mimetype": "text/x-python",
   "name": "python",
   "nbconvert_exporter": "python",
   "pygments_lexer": "ipython3",
   "version": "3.11.5"
  }
 },
 "nbformat": 4,
 "nbformat_minor": 5
}
