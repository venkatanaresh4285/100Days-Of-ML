{
 "cells": [
  {
   "cell_type": "markdown",
   "id": "d0013293",
   "metadata": {},
   "source": [
    "# Operators"
   ]
  },
  {
   "cell_type": "code",
   "execution_count": 1,
   "id": "bde90132",
   "metadata": {},
   "outputs": [
    {
     "name": "stdout",
     "output_type": "stream",
     "text": [
      "100\n"
     ]
    }
   ],
   "source": [
    "a=200\n",
    "b=100\n",
    "print(a and b)"
   ]
  },
  {
   "cell_type": "code",
   "execution_count": 2,
   "id": "c8fedc87",
   "metadata": {},
   "outputs": [
    {
     "name": "stdout",
     "output_type": "stream",
     "text": [
      "200\n"
     ]
    }
   ],
   "source": [
    "a=200\n",
    "b=100\n",
    "print(a or b)"
   ]
  },
  {
   "cell_type": "code",
   "execution_count": 3,
   "id": "f1f62c01",
   "metadata": {},
   "outputs": [
    {
     "name": "stdout",
     "output_type": "stream",
     "text": [
      "False\n"
     ]
    }
   ],
   "source": [
    "print(not b)"
   ]
  },
  {
   "cell_type": "code",
   "execution_count": 4,
   "id": "7163177c",
   "metadata": {},
   "outputs": [
    {
     "name": "stdout",
     "output_type": "stream",
     "text": [
      "2122226883200\n",
      "2122226890880\n",
      "False\n"
     ]
    }
   ],
   "source": [
    "a=[1,2,3,4]\n",
    "b=[1,2,3,4]\n",
    "print(id(a))\n",
    "print(id(b))\n",
    "print(b is a)"
   ]
  },
  {
   "cell_type": "code",
   "execution_count": 5,
   "id": "8535e29a",
   "metadata": {},
   "outputs": [
    {
     "name": "stdout",
     "output_type": "stream",
     "text": [
      "ADD : 30\n",
      "SUB : -10\n",
      "MUL : 200\n",
      "DIV : 0.5\n",
      "FLD : 0\n",
      "MOD : 10\n",
      "EXP : 100000000000000000000\n"
     ]
    }
   ],
   "source": [
    "a = 10\n",
    "b = 20\n",
    "\n",
    "print(\"ADD :\", a + b)  \n",
    "print(\"SUB :\", a - b) \n",
    "print(\"MUL :\", a * b)  \n",
    "print(\"DIV :\", a / b) \n",
    "print(\"FLD :\", a // b)  \n",
    "print(\"MOD :\", a % b) \n",
    "print(\"EXP :\", a ** b)  \n"
   ]
  },
  {
   "cell_type": "code",
   "execution_count": 6,
   "id": "a3a7586d",
   "metadata": {},
   "outputs": [
    {
     "name": "stdout",
     "output_type": "stream",
     "text": [
      "False\n"
     ]
    }
   ],
   "source": [
    "a=10\n",
    "b=20\n",
    "if(a>b):\n",
    "    print(\"True\")\n",
    "else:\n",
    "    print(\"False\")"
   ]
  },
  {
   "cell_type": "code",
   "execution_count": 7,
   "id": "7c9d9e82",
   "metadata": {},
   "outputs": [
    {
     "name": "stdout",
     "output_type": "stream",
     "text": [
      "1 2 3 4 5 6 7 8 9 10 "
     ]
    }
   ],
   "source": [
    "for i in range(1,10+1):\n",
    "    print(i,end=\" \")"
   ]
  },
  {
   "cell_type": "code",
   "execution_count": 8,
   "id": "24c1e094",
   "metadata": {},
   "outputs": [
    {
     "name": "stdout",
     "output_type": "stream",
     "text": [
      "1 2 3 4 5 6 7 8 9 10 "
     ]
    }
   ],
   "source": [
    "i=1\n",
    "while(i<=10):\n",
    "    print(i,end=\" \")\n",
    "    i=i+1"
   ]
  },
  {
   "cell_type": "markdown",
   "id": "d301a701",
   "metadata": {},
   "source": [
    "# Functions in Python"
   ]
  },
  {
   "cell_type": "code",
   "execution_count": 9,
   "id": "cc55a4a5",
   "metadata": {},
   "outputs": [
    {
     "name": "stdout",
     "output_type": "stream",
     "text": [
      "30\n"
     ]
    }
   ],
   "source": [
    "def ADD(a,b):\n",
    "    return a+b\n",
    "\n",
    "print(ADD(10,20))"
   ]
  },
  {
   "cell_type": "code",
   "execution_count": 10,
   "id": "a48da78a",
   "metadata": {},
   "outputs": [
    {
     "name": "stdout",
     "output_type": "stream",
     "text": [
      "NNN\n",
      "NN\n"
     ]
    }
   ],
   "source": [
    "def FUN():\n",
    "    a=\"NNN\"\n",
    "    b= \"NN\"\n",
    "    return a,b\n",
    "a,b=FUN()\n",
    "print(a)\n",
    "print(b)"
   ]
  },
  {
   "cell_type": "markdown",
   "id": "b651c312",
   "metadata": {},
   "source": [
    "# STRINGS\n"
   ]
  },
  {
   "cell_type": "code",
   "execution_count": 11,
   "id": "668be7fc",
   "metadata": {},
   "outputs": [
    {
     "name": "stdout",
     "output_type": "stream",
     "text": [
      "l\n"
     ]
    }
   ],
   "source": [
    "A=\"Hello world welcome to my world\"\n",
    "print(A[2])"
   ]
  },
  {
   "cell_type": "code",
   "execution_count": 12,
   "id": "8b6da6f6",
   "metadata": {},
   "outputs": [
    {
     "data": {
      "text/plain": [
       "'dlrow ym ot emoclew dlrow olleH'"
      ]
     },
     "execution_count": 12,
     "metadata": {},
     "output_type": "execute_result"
    }
   ],
   "source": [
    "A[::-1]"
   ]
  },
  {
   "cell_type": "code",
   "execution_count": 13,
   "id": "bc70de5c",
   "metadata": {},
   "outputs": [],
   "source": [
    "a=\"10101\"\n",
    "del a\n",
    "# print(a)\n",
    "#it will cause ane error"
   ]
  },
  {
   "cell_type": "code",
   "execution_count": 14,
   "id": "e7afabd0",
   "metadata": {},
   "outputs": [
    {
     "name": "stdout",
     "output_type": "stream",
     "text": [
      "25\n"
     ]
    }
   ],
   "source": [
    "a=\"Hello I am Venkata Naresh\"\n",
    "print(len(a))"
   ]
  },
  {
   "cell_type": "code",
   "execution_count": 15,
   "id": "6bdab4b6",
   "metadata": {},
   "outputs": [
    {
     "data": {
      "text/plain": [
       "'HELLO I AM VENKATA NARESH'"
      ]
     },
     "execution_count": 15,
     "metadata": {},
     "output_type": "execute_result"
    }
   ],
   "source": [
    "a.upper()\n",
    "# print(a)"
   ]
  },
  {
   "cell_type": "code",
   "execution_count": 16,
   "id": "e5959952",
   "metadata": {},
   "outputs": [
    {
     "data": {
      "text/plain": [
       "'hello i am venkata naresh'"
      ]
     },
     "execution_count": 16,
     "metadata": {},
     "output_type": "execute_result"
    }
   ],
   "source": [
    "a.lower()"
   ]
  },
  {
   "cell_type": "code",
   "execution_count": 17,
   "id": "282d5401",
   "metadata": {},
   "outputs": [
    {
     "name": "stdout",
     "output_type": "stream",
     "text": [
      "Naresh\n"
     ]
    }
   ],
   "source": [
    "a=\" Naresh \"\n",
    "print(a.strip())"
   ]
  },
  {
   "cell_type": "code",
   "execution_count": 18,
   "id": "064dc354",
   "metadata": {},
   "outputs": [
    {
     "name": "stdout",
     "output_type": "stream",
     "text": [
      "Hello World\n"
     ]
    }
   ],
   "source": [
    "s1 = \"Hello\"\n",
    "s2 = \"World\"\n",
    "s3 = s1 + \" \" + s2\n",
    "print(s3)"
   ]
  },
  {
   "cell_type": "code",
   "execution_count": 19,
   "id": "8da2ef76",
   "metadata": {},
   "outputs": [
    {
     "name": "stdout",
     "output_type": "stream",
     "text": [
      "HelloHelloHelloHelloHelloHelloHelloHelloHelloHello\n"
     ]
    }
   ],
   "source": [
    "a=\"Hello\"\n",
    "print(a*10)"
   ]
  },
  {
   "cell_type": "markdown",
   "id": "9b7c55a9",
   "metadata": {},
   "source": [
    "# Lists"
   ]
  },
  {
   "cell_type": "code",
   "execution_count": 20,
   "id": "3a972b39",
   "metadata": {},
   "outputs": [
    {
     "name": "stdout",
     "output_type": "stream",
     "text": [
      "[10, 20, 30, 'Naresh', 20.1, 30.3]\n"
     ]
    }
   ],
   "source": [
    "a=[10,20,30,\"Naresh\",20.1,30.3]\n",
    "print(a)"
   ]
  },
  {
   "cell_type": "code",
   "execution_count": 21,
   "id": "b3ad7aca",
   "metadata": {},
   "outputs": [
    {
     "name": "stdout",
     "output_type": "stream",
     "text": [
      "(1, 2, 3, 4)\n",
      "<class 'tuple'>\n",
      "<class 'list'>\n"
     ]
    }
   ],
   "source": [
    "A=(1,2,3,4,)\n",
    "print(A)\n",
    "print(type(A))\n",
    "A=list(A)\n",
    "print(type(A))"
   ]
  },
  {
   "cell_type": "code",
   "execution_count": 22,
   "id": "a2b61e53",
   "metadata": {},
   "outputs": [
    {
     "name": "stdout",
     "output_type": "stream",
     "text": [
      "[1, 2, 3, 4, 5, 20]\n"
     ]
    }
   ],
   "source": [
    "A=[1,2,3,4,5]\n",
    "A.append(20)\n",
    "print(A)"
   ]
  },
  {
   "cell_type": "code",
   "execution_count": 23,
   "id": "10de1754",
   "metadata": {},
   "outputs": [],
   "source": [
    "A.insert(2,20)"
   ]
  },
  {
   "cell_type": "code",
   "execution_count": 24,
   "id": "1fa862e9",
   "metadata": {},
   "outputs": [
    {
     "name": "stdout",
     "output_type": "stream",
     "text": [
      "[1, 2, 20, 3, 4, 5, 20]\n"
     ]
    }
   ],
   "source": [
    "print(A)"
   ]
  },
  {
   "cell_type": "code",
   "execution_count": 25,
   "id": "28dfc3b2",
   "metadata": {},
   "outputs": [
    {
     "name": "stdout",
     "output_type": "stream",
     "text": [
      "After extend([15, 20, 25]): [10, 20, 30, 'Naresh', 20.1, 30.3, 15, 20, 25]\n"
     ]
    }
   ],
   "source": [
    "a.extend([15, 20, 25])  \n",
    "print(\"After extend([15, 20, 25]):\", a) "
   ]
  },
  {
   "cell_type": "code",
   "execution_count": 26,
   "id": "81fa4c26",
   "metadata": {},
   "outputs": [
    {
     "name": "stdout",
     "output_type": "stream",
     "text": [
      "[1, 2, 20, 3, 4, 5, 20]\n"
     ]
    }
   ],
   "source": [
    "print(A)"
   ]
  },
  {
   "cell_type": "code",
   "execution_count": 27,
   "id": "b7a4ab94",
   "metadata": {},
   "outputs": [],
   "source": [
    "A[2]=\"nARESH\""
   ]
  },
  {
   "cell_type": "code",
   "execution_count": 28,
   "id": "e90b3dfc",
   "metadata": {},
   "outputs": [
    {
     "name": "stdout",
     "output_type": "stream",
     "text": [
      "[1, 2, 'nARESH', 3, 4, 5, 20]\n"
     ]
    }
   ],
   "source": [
    "print(A)"
   ]
  },
  {
   "cell_type": "code",
   "execution_count": 29,
   "id": "69bf5ee4",
   "metadata": {},
   "outputs": [],
   "source": [
    "A.remove(\"nARESH\")"
   ]
  },
  {
   "cell_type": "code",
   "execution_count": null,
   "id": "97af0b93",
   "metadata": {},
   "outputs": [],
   "source": []
  },
  {
   "cell_type": "code",
   "execution_count": 30,
   "id": "bb1f3493",
   "metadata": {},
   "outputs": [
    {
     "name": "stdout",
     "output_type": "stream",
     "text": [
      "Enter list elements1 2 3 4 5\n",
      "[1, 2, 3, 4, 5]\n"
     ]
    }
   ],
   "source": [
    "a=list(map(int,input(\"Enter list elements\").split()))\n",
    "print(a)"
   ]
  },
  {
   "cell_type": "code",
   "execution_count": 32,
   "id": "25d572bc",
   "metadata": {},
   "outputs": [
    {
     "name": "stdout",
     "output_type": "stream",
     "text": [
      "[2, 4, 6, 8, 10]\n"
     ]
    }
   ],
   "source": [
    "def is_even(n):\n",
    "    if(n%2==0):\n",
    "        return True\n",
    "    else:\n",
    "        return False\n",
    "\n",
    "nums=[1,2,3,4,5,6,7,8,9,10]\n",
    "even=list(filter(is_even,nums))\n",
    "print(even)"
   ]
  },
  {
   "cell_type": "code",
   "execution_count": 33,
   "id": "d5972451",
   "metadata": {},
   "outputs": [
    {
     "name": "stdout",
     "output_type": "stream",
     "text": [
      "[1, 3, 5, 7, 9]\n"
     ]
    }
   ],
   "source": [
    "def is_odd(n):\n",
    "    if(n%2!=0):\n",
    "        return True\n",
    "    else:\n",
    "        return False\n",
    "num=[1,2,3,4,5,6,7,8,9,10]\n",
    "odd=list(filter(is_odd,nums))\n",
    "print(odd)"
   ]
  },
  {
   "cell_type": "markdown",
   "id": "10c77683",
   "metadata": {},
   "source": [
    "# Tuples in Python"
   ]
  },
  {
   "cell_type": "code",
   "execution_count": 34,
   "id": "7c293d29",
   "metadata": {},
   "outputs": [
    {
     "name": "stdout",
     "output_type": "stream",
     "text": [
      "<class 'tuple'>\n"
     ]
    }
   ],
   "source": [
    "tup=(1,2,3,4,5)\n",
    "print(type(tup))"
   ]
  },
  {
   "cell_type": "code",
   "execution_count": 35,
   "id": "ab166130",
   "metadata": {},
   "outputs": [
    {
     "name": "stdout",
     "output_type": "stream",
     "text": [
      "<class 'int'>\n"
     ]
    }
   ],
   "source": [
    "tup=(1)\n",
    "print(type(tup))"
   ]
  },
  {
   "cell_type": "code",
   "execution_count": 36,
   "id": "e117d7fa",
   "metadata": {},
   "outputs": [],
   "source": [
    "tup1=(1,\"Naresh\",2,\"Ak\")"
   ]
  },
  {
   "cell_type": "code",
   "execution_count": 37,
   "id": "d3cef778",
   "metadata": {},
   "outputs": [
    {
     "name": "stdout",
     "output_type": "stream",
     "text": [
      "<class 'tuple'>\n"
     ]
    }
   ],
   "source": [
    "print(type(tup1))"
   ]
  },
  {
   "cell_type": "code",
   "execution_count": 41,
   "id": "76b76da3",
   "metadata": {},
   "outputs": [
    {
     "name": "stdout",
     "output_type": "stream",
     "text": [
      "2\n"
     ]
    }
   ],
   "source": [
    "print(tup1[-2])"
   ]
  },
  {
   "cell_type": "code",
   "execution_count": 43,
   "id": "b6c7abf1",
   "metadata": {},
   "outputs": [
    {
     "name": "stdout",
     "output_type": "stream",
     "text": [
      "10\n",
      "1\n"
     ]
    }
   ],
   "source": [
    "tupp=(1,2,3,4,5,6,7,7,8,9,10)\n",
    "print(max(tupp))\n",
    "print(min(tupp))"
   ]
  },
  {
   "cell_type": "code",
   "execution_count": 44,
   "id": "a1b4a4d3",
   "metadata": {},
   "outputs": [
    {
     "name": "stdout",
     "output_type": "stream",
     "text": [
      "<class 'set'>\n"
     ]
    }
   ],
   "source": [
    "se={1,2,3,4,5,6}\n",
    "print(type(se))"
   ]
  },
  {
   "cell_type": "code",
   "execution_count": 45,
   "id": "13b95373",
   "metadata": {},
   "outputs": [
    {
     "name": "stdout",
     "output_type": "stream",
     "text": [
      "<class 'set'>\n"
     ]
    }
   ],
   "source": [
    "se1=set()\n",
    "print(type(se1))"
   ]
  },
  {
   "cell_type": "markdown",
   "id": "f6eaf839",
   "metadata": {},
   "source": [
    "# Dictionary"
   ]
  },
  {
   "cell_type": "code",
   "execution_count": 53,
   "id": "f4953719",
   "metadata": {},
   "outputs": [
    {
     "name": "stdout",
     "output_type": "stream",
     "text": [
      "90\n"
     ]
    }
   ],
   "source": [
    "roll_no={\n",
    "    'Naresh':85,\n",
    "    'Chakri':90,\n",
    "    'Akshith':91,\n",
    "    'Praneeth':118}\n",
    "print(roll_no['Chakri'])"
   ]
  },
  {
   "cell_type": "code",
   "execution_count": 54,
   "id": "4083df61",
   "metadata": {},
   "outputs": [
    {
     "name": "stdout",
     "output_type": "stream",
     "text": [
      "Yes Akshith is present\n"
     ]
    }
   ],
   "source": [
    "roll_no={\n",
    "    'Naresh':85,\n",
    "    'Chakri':90,\n",
    "    'Akshith':91,\n",
    "    'Praneeth':118\n",
    "}\n",
    "if 'Akshith' in roll_no:\n",
    "    print(\"Yes Akshith is present\")"
   ]
  },
  {
   "cell_type": "code",
   "execution_count": 56,
   "id": "1c4cbf88",
   "metadata": {},
   "outputs": [
    {
     "name": "stdout",
     "output_type": "stream",
     "text": [
      "{'Naresh': 100, 'Chakri': 90, 'Akshith': 91, 'Praneeth': 118}\n"
     ]
    }
   ],
   "source": [
    "roll_no={\n",
    "    'Naresh':85,\n",
    "    'Chakri':90,\n",
    "    'Akshith':91,\n",
    "    'Praneeth':118\n",
    "}\n",
    "roll_no['Naresh']=100\n",
    "if 'Akshith' in roll_no:\n",
    "    print(roll_no)"
   ]
  },
  {
   "cell_type": "code",
   "execution_count": 58,
   "id": "9b110500",
   "metadata": {},
   "outputs": [
    {
     "name": "stdout",
     "output_type": "stream",
     "text": [
      "{'Naresh': 100, 'Chakri': 90, 'Akshith': 91, 'Praneeth': 118}\n"
     ]
    }
   ],
   "source": [
    "roll_no={\n",
    "    'Naresh':85,\n",
    "    'Chakri':90,\n",
    "    'Akshith':91,\n",
    "    'Praneeth':118\n",
    "}\n",
    "roll_no.update({'Naresh':100})\n",
    "print(roll_no)"
   ]
  },
  {
   "cell_type": "markdown",
   "id": "782a6c6d",
   "metadata": {},
   "source": [
    "# Classes and Objects"
   ]
  },
  {
   "cell_type": "code",
   "execution_count": 59,
   "id": "68e7dc5f",
   "metadata": {},
   "outputs": [
    {
     "name": "stdout",
     "output_type": "stream",
     "text": [
      "Naresh\n"
     ]
    }
   ],
   "source": [
    "class Student:\n",
    "    name=\"Naresh\"\n",
    "s=Student()\n",
    "print(s.name)\n",
    "    "
   ]
  },
  {
   "cell_type": "code",
   "execution_count": 61,
   "id": "21359632",
   "metadata": {},
   "outputs": [
    {
     "name": "stdout",
     "output_type": "stream",
     "text": [
      "Naresh\n",
      "21\n",
      "Akshith\n",
      "22\n"
     ]
    }
   ],
   "source": [
    "# init function\n",
    "class Student:\n",
    "    def __init__(self,name,age):\n",
    "        self.name=name\n",
    "        self.age=age\n",
    "s1=Student(\"Naresh\",21)\n",
    "s2=Student(\"Akshith\",22)\n",
    "\n",
    "print(s1.name)\n",
    "print(s1.age)\n",
    "print(s2.name)\n",
    "print(s2.age)\n",
    "      "
   ]
  },
  {
   "cell_type": "code",
   "execution_count": null,
   "id": "a367353e",
   "metadata": {},
   "outputs": [],
   "source": []
  }
 ],
 "metadata": {
  "kernelspec": {
   "display_name": "Python 3 (ipykernel)",
   "language": "python",
   "name": "python3"
  },
  "language_info": {
   "codemirror_mode": {
    "name": "ipython",
    "version": 3
   },
   "file_extension": ".py",
   "mimetype": "text/x-python",
   "name": "python",
   "nbconvert_exporter": "python",
   "pygments_lexer": "ipython3",
   "version": "3.11.5"
  }
 },
 "nbformat": 4,
 "nbformat_minor": 5
}
